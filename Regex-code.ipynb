{
 "cells": [
  {
   "cell_type": "code",
   "execution_count": 146,
   "metadata": {},
   "outputs": [
    {
     "data": {
      "text/plain": [
       "0         03/25/93 Total time of visit (in minutes):\\n\n",
       "1                       6/18/85 Primary Care Doctor:\\n\n",
       "2    sshe plans to move as of 7/8/71 In-Home Servic...\n",
       "3                7 on 9/27/75 Audit C Score Current:\\n\n",
       "4    2/6/96 sleep studyPain Treatment Pain Level (N...\n",
       "5                    .Per 7/06/79 Movement D/O note:\\n\n",
       "6    4, 5/18/78 Patient's thoughts about current su...\n",
       "7    10/24/89 CPT Code: 90801 - Psychiatric Diagnos...\n",
       "8                         3/7/86 SOS-10 Total Score:\\n\n",
       "9             (4/10/71)Score-1Audit C Score Current:\\n\n",
       "dtype: object"
      ]
     },
     "execution_count": 146,
     "metadata": {},
     "output_type": "execute_result"
    }
   ],
   "source": [
    "import pandas as pd\n",
    "\n",
    "doc = []\n",
    "with open(r'C:\\Users\\Himanshu Poddar\\Desktop\\Coursera courses\\Applied text mining with python\\dates.txt') as file:\n",
    "    for line in file:\n",
    "        doc.append(line)\n",
    "\n",
    "ori_df = pd.Series(doc)\n",
    "ori_df.head(10)"
   ]
  },
  {
   "cell_type": "code",
   "execution_count": 147,
   "metadata": {},
   "outputs": [
    {
     "name": "stderr",
     "output_type": "stream",
     "text": [
      "c:\\users\\himanshu poddar\\appdata\\local\\programs\\python\\python36-32\\lib\\site-packages\\ipykernel_launcher.py:2: FutureWarning: currently extract(expand=None) means expand=False (return Index/Series/DataFrame) but in a future version of pandas this will be changed to expand=True (return DataFrame)\n",
      "  \n"
     ]
    }
   ],
   "source": [
    "#Applying Regex with pandas\n",
    "ori_df = ori_df.str.extract('(\\d{1,2}[-/]\\d{1,2}[/-]\\d{2,4})|(\\d{1,2}/\\d{4})|((?:Jan|Feb|Mar|Apr|May|Jun|Jul|Aug|Sep|Oct|Nov|Dec)[a-z]*[ -.]*\\d{2}[thsdn, .-]*\\d{4})|((?:\\d{1,2} )?(?:Jan|Feb|Mar|Apr|May|Jun|Jul|Aug|Sep|Oct|Nov|Dec)[a-z]*[,. ]*\\d{4})|(\\d{4})')"
   ]
  },
  {
   "cell_type": "code",
   "execution_count": 148,
   "metadata": {},
   "outputs": [],
   "source": [
    "ori_df.iloc[271,4] = \"\"\n",
    "ori_df.iloc[271,3] = \"August 2008\""
   ]
  },
  {
   "cell_type": "code",
   "execution_count": 149,
   "metadata": {},
   "outputs": [],
   "source": [
    "df = ori_df"
   ]
  },
  {
   "cell_type": "code",
   "execution_count": 150,
   "metadata": {},
   "outputs": [
    {
     "name": "stdout",
     "output_type": "stream",
     "text": [
      "          0    1    2    3    4\n",
      "0  03/25/93  NaN  NaN  NaN  NaN\n",
      "1   6/18/85  NaN  NaN  NaN  NaN\n",
      "2    7/8/71  NaN  NaN  NaN  NaN\n",
      "3   9/27/75  NaN  NaN  NaN  NaN\n",
      "4    2/6/96  NaN  NaN  NaN  NaN\n",
      "       0    1    2    3     4\n",
      "495  NaN  NaN  NaN  NaN  1979\n",
      "496  NaN  NaN  NaN  NaN  2006\n",
      "497  NaN  NaN  NaN  NaN  2008\n",
      "498  NaN  NaN  NaN  NaN  2005\n",
      "499  NaN  NaN  NaN  NaN  1980\n"
     ]
    }
   ],
   "source": [
    "print(df.head(5))\n",
    "print(df.tail(5))"
   ]
  },
  {
   "cell_type": "code",
   "execution_count": 151,
   "metadata": {},
   "outputs": [
    {
     "name": "stdout",
     "output_type": "stream",
     "text": [
      "          0 1 2 3 4\n",
      "0  03/25/93        \n",
      "1   6/18/85        \n",
      "2    7/8/71        \n",
      "3   9/27/75        \n",
      "4    2/6/96        \n",
      "    0 1 2 3     4\n",
      "495          1979\n",
      "496          2006\n",
      "497          2008\n",
      "498          2005\n",
      "499          1980\n"
     ]
    }
   ],
   "source": [
    "df = df.fillna('')\n",
    "print(df.head(5))\n",
    "print(df.tail(5))"
   ]
  },
  {
   "cell_type": "code",
   "execution_count": 152,
   "metadata": {},
   "outputs": [],
   "source": [
    "df['dates'] = df[[0,1,2,3,4]].apply(lambda x: ''.join(x), axis=1)"
   ]
  },
  {
   "cell_type": "code",
   "execution_count": 153,
   "metadata": {},
   "outputs": [
    {
     "data": {
      "text/plain": [
       "0        03/25/93\n",
       "1         6/18/85\n",
       "2          7/8/71\n",
       "3         9/27/75\n",
       "4          2/6/96\n",
       "5         7/06/79\n",
       "6         5/18/78\n",
       "7        10/24/89\n",
       "8          3/7/86\n",
       "9         4/10/71\n",
       "10        5/11/85\n",
       "11        4/09/75\n",
       "12        8/01/98\n",
       "13        1/26/72\n",
       "14      5/24/1990\n",
       "15      1/25/2011\n",
       "16        4/12/82\n",
       "17     10/13/1976\n",
       "18        4/24/98\n",
       "19        5/21/77\n",
       "20        7/21/98\n",
       "21       10/21/79\n",
       "22        3/03/90\n",
       "23        2/11/76\n",
       "24     07/25/1984\n",
       "25        4-13-82\n",
       "26        9/22/89\n",
       "27        9/02/76\n",
       "28        9/12/71\n",
       "29       10/24/86\n",
       "          ...    \n",
       "470          1983\n",
       "471          1999\n",
       "472          2010\n",
       "473          1975\n",
       "474          1972\n",
       "475          2015\n",
       "476          1989\n",
       "477          1994\n",
       "478          1993\n",
       "479          1996\n",
       "480          2013\n",
       "481          1974\n",
       "482          1990\n",
       "483          1995\n",
       "484          2004\n",
       "485          1987\n",
       "486          1973\n",
       "487          1992\n",
       "488          1977\n",
       "489          1985\n",
       "490          2007\n",
       "491          2009\n",
       "492          1986\n",
       "493          1978\n",
       "494          2002\n",
       "495          1979\n",
       "496          2006\n",
       "497          2008\n",
       "498          2005\n",
       "499          1980\n",
       "Name: dates, Length: 500, dtype: object"
      ]
     },
     "execution_count": 153,
     "metadata": {},
     "output_type": "execute_result"
    }
   ],
   "source": [
    "df['dates']"
   ]
  },
  {
   "cell_type": "code",
   "execution_count": null,
   "metadata": {
    "collapsed": true
   },
   "outputs": [],
   "source": [
    "#SORTING THE DATES based on TIMESTAMP\n",
    "#coming soon\n",
    "#stay tuned"
   ]
  }
 ],
 "metadata": {
  "kernelspec": {
   "display_name": "Python 3",
   "language": "python",
   "name": "python3"
  },
  "language_info": {
   "codemirror_mode": {
    "name": "ipython",
    "version": 3
   },
   "file_extension": ".py",
   "mimetype": "text/x-python",
   "name": "python",
   "nbconvert_exporter": "python",
   "pygments_lexer": "ipython3",
   "version": "3.6.2"
  }
 },
 "nbformat": 4,
 "nbformat_minor": 2
}
